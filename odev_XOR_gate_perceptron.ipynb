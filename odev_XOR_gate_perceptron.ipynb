{
  "nbformat": 4,
  "nbformat_minor": 0,
  "metadata": {
    "colab": {
      "name": "odev_XOR_gate_perceptron.ipynb ",
      "provenance": [],
      "collapsed_sections": [],
      "include_colab_link": true
    },
    "kernelspec": {
      "name": "python3",
      "display_name": "Python 3"
    },
    "language_info": {
      "name": "python"
    }
  },
  "cells": [
    {
      "cell_type": "markdown",
      "metadata": {
        "id": "view-in-github",
        "colab_type": "text"
      },
      "source": [
        "<a href=\"https://colab.research.google.com/github/selimcn/SisLabOdev/blob/main/odev_XOR_gate_perceptron.ipynb\" target=\"_parent\"><img src=\"https://colab.research.google.com/assets/colab-badge.svg\" alt=\"Open In Colab\"/></a>"
      ]
    },
    {
      "cell_type": "code",
      "source": [
        "import matplotlib.pyplot as plt\n",
        "import numpy as np"
      ],
      "metadata": {
        "id": "8MkfMisUP8f6"
      },
      "execution_count": null,
      "outputs": []
    },
    {
      "cell_type": "code",
      "source": [
        "giris = np.array([[1, 1], [1, 0], [0, 1], [0, 0]])\n",
        "cikis_AND = np.array([1, 0, 0, 0]) # and\n",
        "cikis_OR = np.array([1, 1, 1, 0]) #or\n",
        "\n",
        "giris_NOT= np.array([[1],[0]])\n",
        "cikis_NOT= np.array([0,1])\n"
      ],
      "metadata": {
        "id": "oV822TTdP-Sb"
      },
      "execution_count": null,
      "outputs": []
    },
    {
      "cell_type": "code",
      "source": [
        "class Perceptron(object): \n",
        "    def __init__(self, ogrenme_orani=0.1, iter_sayisi=10):\n",
        "        self.ogrenme_orani = ogrenme_orani\n",
        "        self.iter_sayisi = iter_sayisi\n",
        "\n",
        "    def ogren(self, X, y):\n",
        "        self.w = np.zeros(1 + X.shape[1])\n",
        "        self.hatalar = []\n",
        "        for _ in range(self.iter_sayisi):\n",
        "            hata = 0\n",
        "            for xi, hedef in zip(X, y):\n",
        "\n",
        "\n",
        "                degisim = self.ogrenme_orani * (hedef - self.tahmin(xi))\n",
        "                self.w[1:] += degisim * xi\n",
        "                self.w[0] += degisim\n",
        "\n",
        "                \n",
        "                hata += int(degisim != 0.0)\n",
        "            self.hatalar.append(hata)\n",
        "        return self\n",
        "\n",
        "    def net_input(self, X):\n",
        "        return np.dot(X, self.w[1:]) + self.w[0]\n",
        "\n",
        "    def tahmin(self, x):\n",
        "        a = np.where(self.net_input(x) >= 0.0, 1, 0)\n",
        "        return a"
      ],
      "metadata": {
        "id": "N8F1p5oLsYgw"
      },
      "execution_count": null,
      "outputs": []
    },
    {
      "cell_type": "code",
      "source": [
        "def XOR(x):\n",
        "  siniflandirici_AND = Perceptron(ogrenme_orani=0.1, iter_sayisi=10)\n",
        "  siniflandirici_NOT = Perceptron(ogrenme_orani=0.1, iter_sayisi=10)\n",
        "  siniflandirici_OR = Perceptron(ogrenme_orani=0.1, iter_sayisi=10)\n",
        "\n",
        "  \n",
        "  siniflandirici_AND.ogren(giris, cikis_AND)\n",
        "  siniflandirici_NOT.ogren(giris_NOT,cikis_NOT )\n",
        "  siniflandirici_OR.ogren(giris, cikis_OR)\n",
        "\n",
        "  sonuc_AND = siniflandirici_AND.tahmin(x)\n",
        "  sonuc_AND_NOT = siniflandirici_NOT.tahmin(sonuc_AND)\n",
        "  sonuc_OR = siniflandirici_OR.tahmin(x)\n",
        "\n",
        "  new_x = np.array([sonuc_AND_NOT[0], sonuc_OR])\n",
        "  return siniflandirici_AND.tahmin(new_x)\n",
        "\n",
        "\n"
      ],
      "metadata": {
        "id": "T3j6_hMKUjP1"
      },
      "execution_count": null,
      "outputs": []
    },
    {
      "cell_type": "code",
      "source": [
        "for e in giris:\n",
        "  print(e)\n",
        "  print(XOR(e))"
      ],
      "metadata": {
        "colab": {
          "base_uri": "https://localhost:8080/"
        },
        "id": "GNDnplBrG_Vn",
        "outputId": "95139d55-6212-4cee-b224-780e2b1a4fcf"
      },
      "execution_count": null,
      "outputs": [
        {
          "output_type": "stream",
          "name": "stdout",
          "text": [
            "[1 1]\n",
            "0\n",
            "[1 0]\n",
            "1\n",
            "[0 1]\n",
            "1\n",
            "[0 0]\n",
            "0\n"
          ]
        }
      ]
    }
  ]
}